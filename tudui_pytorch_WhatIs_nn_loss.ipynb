{
  "nbformat": 4,
  "nbformat_minor": 0,
  "metadata": {
    "colab": {
      "provenance": [],
      "authorship_tag": "ABX9TyMAjy4d5n+R5j7aLTPBqaYX",
      "include_colab_link": true
    },
    "kernelspec": {
      "name": "python3",
      "display_name": "Python 3"
    },
    "language_info": {
      "name": "python"
    }
  },
  "cells": [
    {
      "cell_type": "markdown",
      "metadata": {
        "id": "view-in-github",
        "colab_type": "text"
      },
      "source": [
        "<a href=\"https://colab.research.google.com/github/fredyah/tudui-pytorch/blob/main/tudui_pytorch_WhatIs_nn_loss.ipynb\" target=\"_parent\"><img src=\"https://colab.research.google.com/assets/colab-badge.svg\" alt=\"Open In Colab\"/></a>"
      ]
    },
    {
      "cell_type": "code",
      "execution_count": 1,
      "metadata": {
        "id": "hqrwS8T7HEhV"
      },
      "outputs": [],
      "source": [
        "import torch\n",
        "from torch.nn import L1Loss\n",
        "\n",
        "## Loss function 的概念：\n",
        "## 將二個張量，做比較，差異值的處理有二種：\n",
        "## 1. SUM：取總和\n",
        "## 2. Mean：取均值"
      ]
    },
    {
      "cell_type": "code",
      "source": [
        "inputs = torch.tensor([1, 2, 3], dtype=torch.float32)\n",
        "targets = torch.tensor([1, 3, 5], dtype=torch.float32)"
      ],
      "metadata": {
        "id": "qN-4Tf0IJYSt"
      },
      "execution_count": 2,
      "outputs": []
    },
    {
      "cell_type": "code",
      "source": [
        "inputs = torch.reshape(inputs, (1, 1, 1, 3))\n",
        "targets = torch.reshape(targets, (1, 1, 1, 3))"
      ],
      "metadata": {
        "id": "t33oDVm9KYJv"
      },
      "execution_count": 3,
      "outputs": []
    },
    {
      "cell_type": "code",
      "source": [
        "loss = L1Loss(reduction='sum')\n",
        "result = loss(inputs, targets)\n",
        "print(result)  ## 差異為 [0, 1, 2] sum = 0 + 1 + 2 = 3"
      ],
      "metadata": {
        "colab": {
          "base_uri": "https://localhost:8080/"
        },
        "id": "25XL-q3vKpP0",
        "outputId": "1a1363b4-2cdb-4301-e12e-e552ba4d5240"
      },
      "execution_count": 6,
      "outputs": [
        {
          "output_type": "stream",
          "name": "stdout",
          "text": [
            "tensor(3.)\n"
          ]
        }
      ]
    },
    {
      "cell_type": "code",
      "source": [
        "loss = L1Loss(reduction='mean')\n",
        "result = loss(inputs, targets)\n",
        "print(result)  ## 差異為 [0, 1, 2] sum = (0 + 1 + 2) / 3 = 1"
      ],
      "metadata": {
        "colab": {
          "base_uri": "https://localhost:8080/"
        },
        "id": "mcoixne_LETr",
        "outputId": "499f6a05-6785-4302-a5ae-d799413629a4"
      },
      "execution_count": 7,
      "outputs": [
        {
          "output_type": "stream",
          "name": "stdout",
          "text": [
            "tensor(1.)\n"
          ]
        }
      ]
    }
  ]
}