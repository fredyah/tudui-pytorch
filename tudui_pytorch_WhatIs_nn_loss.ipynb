{
  "nbformat": 4,
  "nbformat_minor": 0,
  "metadata": {
    "colab": {
      "provenance": [],
      "authorship_tag": "ABX9TyOO59hPt/93M2l0G66RmYCH",
      "include_colab_link": true
    },
    "kernelspec": {
      "name": "python3",
      "display_name": "Python 3"
    },
    "language_info": {
      "name": "python"
    }
  },
  "cells": [
    {
      "cell_type": "markdown",
      "metadata": {
        "id": "view-in-github",
        "colab_type": "text"
      },
      "source": [
        "<a href=\"https://colab.research.google.com/github/fredyah/tudui-pytorch/blob/main/tudui_pytorch_WhatIs_nn_loss.ipynb\" target=\"_parent\"><img src=\"https://colab.research.google.com/assets/colab-badge.svg\" alt=\"Open In Colab\"/></a>"
      ]
    },
    {
      "cell_type": "code",
      "execution_count": 16,
      "metadata": {
        "id": "hqrwS8T7HEhV"
      },
      "outputs": [],
      "source": [
        "import torch\n",
        "from torch.nn import L1Loss, MSELoss, CrossEntropyLoss\n",
        "\n",
        "## Loss function 的概念：\n",
        "## 將二個張量，做比較，差異值的處理有二種：\n",
        "## 1. SUM：取總和\n",
        "## 2. Mean：取均值"
      ]
    },
    {
      "cell_type": "code",
      "source": [
        "inputs = torch.tensor([1, 2, 3], dtype=torch.float32)\n",
        "targets = torch.tensor([1, 3, 5], dtype=torch.float32)"
      ],
      "metadata": {
        "id": "qN-4Tf0IJYSt"
      },
      "execution_count": 10,
      "outputs": []
    },
    {
      "cell_type": "code",
      "source": [
        "inputs = torch.reshape(inputs, (1, 1, 1, 3))\n",
        "targets = torch.reshape(targets, (1, 1, 1, 3))"
      ],
      "metadata": {
        "id": "t33oDVm9KYJv"
      },
      "execution_count": 11,
      "outputs": []
    },
    {
      "cell_type": "code",
      "source": [
        "loss = L1Loss(reduction='sum')\n",
        "result = loss(inputs, targets)\n",
        "print(result)  ## 差異為 [0, 1, 2] sum = 0 + 1 + 2 = 3"
      ],
      "metadata": {
        "colab": {
          "base_uri": "https://localhost:8080/"
        },
        "id": "25XL-q3vKpP0",
        "outputId": "40553af2-dbe9-4bf2-bece-571d5c6470ea"
      },
      "execution_count": 12,
      "outputs": [
        {
          "output_type": "stream",
          "name": "stdout",
          "text": [
            "tensor(3.)\n"
          ]
        }
      ]
    },
    {
      "cell_type": "code",
      "source": [
        "## 預設使用 mean\n",
        "loss = L1Loss(reduction='mean')\n",
        "result = loss(inputs, targets)\n",
        "print(result)  ## 差異為 [0, 1, 2] mean = (0 + 1 + 2) / 3 = 1"
      ],
      "metadata": {
        "colab": {
          "base_uri": "https://localhost:8080/"
        },
        "id": "mcoixne_LETr",
        "outputId": "e511a91d-67a3-4409-dd09-c39b74a1cf13"
      },
      "execution_count": 13,
      "outputs": [
        {
          "output_type": "stream",
          "name": "stdout",
          "text": [
            "tensor(1.)\n"
          ]
        }
      ]
    },
    {
      "cell_type": "code",
      "source": [
        "## MSELoss 平方差\n",
        "\n",
        "loss_mse = MSELoss()\n",
        "result_mse = loss_mse(inputs, targets)\n",
        "print(result_mse)  ## 差異為 [0, 1, 2] mean = (0*0 + 1*1 + 2*2) / 3 = 1.667\n"
      ],
      "metadata": {
        "colab": {
          "base_uri": "https://localhost:8080/"
        },
        "id": "csQVByDtLxwM",
        "outputId": "3eb2d438-75ab-410f-84e3-8adb5ca36e0e"
      },
      "execution_count": 15,
      "outputs": [
        {
          "output_type": "stream",
          "name": "stdout",
          "text": [
            "tensor(1.6667)\n"
          ]
        }
      ]
    },
    {
      "cell_type": "code",
      "source": [
        "## nn.CrossEntropyLoss  ## 專門用於分類，像是判斷是人、狗、車、…，判斷是哪一類\n",
        "\n",
        "x = torch.tensor([0.1, 0.2, 0.3])\n",
        "y= torch.tensor([0])\n",
        "x = torch.reshape(x, (1, 3))  ## batch_size =1, class數量 =3\n",
        "print(x)\n",
        "loss_cross = CrossEntropyLoss()\n",
        "result_cross = loss_cross(x, y)\n",
        "print(result_cross) ## 計算方式：如果 y=0, x=0.1 → -0.1 + ln(exp(0.1)+exp(0.2)+exp(0.3)) = -0.1 + ln(1.10517+1.2214+1.34986) = -0.1 + ln(3.67643) = -0.1 + 1.30194284823 = 1.20194...\n",
        "## ln 是指 log 以 e 為底"
      ],
      "metadata": {
        "colab": {
          "base_uri": "https://localhost:8080/"
        },
        "id": "gBq21Kd8OXZw",
        "outputId": "b0cec953-1b96-4e39-f407-c9c01722119c"
      },
      "execution_count": 21,
      "outputs": [
        {
          "output_type": "stream",
          "name": "stdout",
          "text": [
            "tensor([[0.1000, 0.2000, 0.3000]])\n",
            "tensor(1.2019)\n"
          ]
        }
      ]
    }
  ]
}