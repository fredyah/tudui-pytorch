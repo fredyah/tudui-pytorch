{
  "nbformat": 4,
  "nbformat_minor": 0,
  "metadata": {
    "colab": {
      "provenance": [],
      "authorship_tag": "ABX9TyMI3kPfWhSensb0bEufWynS",
      "include_colab_link": true
    },
    "kernelspec": {
      "name": "python3",
      "display_name": "Python 3"
    },
    "language_info": {
      "name": "python"
    }
  },
  "cells": [
    {
      "cell_type": "markdown",
      "metadata": {
        "id": "view-in-github",
        "colab_type": "text"
      },
      "source": [
        "<a href=\"https://colab.research.google.com/github/fredyah/tudui-pytorch/blob/main/tudui_pytorch_%E7%8F%BE%E6%9C%89%E7%B6%B2%E8%B7%AF%E6%A8%A1%E5%9E%8B.ipynb\" target=\"_parent\"><img src=\"https://colab.research.google.com/assets/colab-badge.svg\" alt=\"Open In Colab\"/></a>"
      ]
    },
    {
      "cell_type": "code",
      "execution_count": null,
      "metadata": {
        "id": "4prp7L5VoDGP"
      },
      "outputs": [],
      "source": [
        "import torchvision\n",
        "\n",
        "vgg16_false = torchvision.models.vgg16(pretrained=False)\n",
        "vgg16_true = torchvision.models.vgg16(pretrained=True)\n",
        "\n"
      ]
    },
    {
      "cell_type": "code",
      "source": [
        "dataset = torchvision.datasets.CIFAR10(root=\"./dataset\", train=False, transform=torchvision.transforms.ToTensor(),\n",
        "                                       download=True)\n",
        "dataloader = DataLoader(dataset, batch_size=64)"
      ],
      "metadata": {
        "id": "rMVwMxzvsIr9"
      },
      "execution_count": null,
      "outputs": []
    }
  ]
}