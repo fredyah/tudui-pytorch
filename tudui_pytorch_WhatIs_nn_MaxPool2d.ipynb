{
  "nbformat": 4,
  "nbformat_minor": 0,
  "metadata": {
    "colab": {
      "provenance": [],
      "authorship_tag": "ABX9TyPGyClenfX1dyk7AveHmsdI",
      "include_colab_link": true
    },
    "kernelspec": {
      "name": "python3",
      "display_name": "Python 3"
    },
    "language_info": {
      "name": "python"
    }
  },
  "cells": [
    {
      "cell_type": "markdown",
      "metadata": {
        "id": "view-in-github",
        "colab_type": "text"
      },
      "source": [
        "<a href=\"https://colab.research.google.com/github/fredyah/tudui-pytorch/blob/main/tudui_pytorch_WhatIs_nn_MaxPool2d.ipynb\" target=\"_parent\"><img src=\"https://colab.research.google.com/assets/colab-badge.svg\" alt=\"Open In Colab\"/></a>"
      ]
    },
    {
      "cell_type": "code",
      "execution_count": 21,
      "metadata": {
        "id": "cNq1Rfdd5m2Q"
      },
      "outputs": [],
      "source": [
        "import torch\n",
        "import torchvision\n",
        "from torch import nn\n",
        "from torch.nn import Conv2d, Sigmoid, MaxPool2d\n",
        "from torch.utils.data import DataLoader\n",
        "from torch.utils.tensorboard import SummaryWriter"
      ]
    },
    {
      "cell_type": "code",
      "source": [
        "class Tudui(nn.Module):\n",
        "  def __init__(self):\n",
        "    super(Tudui, self).__init__()\n",
        "    self.maxpool1 = MaxPool2d(kernel_size=3, ceil_mode=True)\n",
        "\n",
        "  def forward(self, input):\n",
        "    output = self.maxpool1(input)\n",
        "    return output"
      ],
      "metadata": {
        "id": "8QkUtxl17tyF"
      },
      "execution_count": 22,
      "outputs": []
    },
    {
      "cell_type": "code",
      "source": [
        "class TuduiA(nn.Module):\n",
        "  def __init__(self):\n",
        "    super(TuduiA, self).__init__()\n",
        "    self.maxpool1 = MaxPool2d(kernel_size=3, ceil_mode=False)\n",
        "\n",
        "  def forward(self, input):\n",
        "    output = self.maxpool1(input)\n",
        "    return output"
      ],
      "metadata": {
        "id": "dskMMZ7h8xKO"
      },
      "execution_count": 23,
      "outputs": []
    },
    {
      "cell_type": "code",
      "source": [
        "input = torch.tensor([[1, 2, 0, 3, 1],\n",
        "            [0, 1, 2, 3, 1],\n",
        "            [1, 2, 1, 0, 0],\n",
        "            [5, 2, 3, 1, 1],\n",
        "            [2, 1, 0, 1, 1]], dtype=torch.float32)\n",
        "\n",
        "input = torch.reshape(input, (-1, 1, 5, 5))  ## -1 是用於自動判斷，如果不知道該用什麼，就可以輸入 -1\n",
        "print(input)\n",
        "print(input.shape)"
      ],
      "metadata": {
        "colab": {
          "base_uri": "https://localhost:8080/"
        },
        "id": "BpiFZnIK5sLi",
        "outputId": "e14d476c-677c-4a74-8da1-a6912de4ea7e"
      },
      "execution_count": 24,
      "outputs": [
        {
          "output_type": "stream",
          "name": "stdout",
          "text": [
            "tensor([[[[1., 2., 0., 3., 1.],\n",
            "          [0., 1., 2., 3., 1.],\n",
            "          [1., 2., 1., 0., 0.],\n",
            "          [5., 2., 3., 1., 1.],\n",
            "          [2., 1., 0., 1., 1.]]]])\n",
            "torch.Size([1, 1, 5, 5])\n"
          ]
        }
      ]
    },
    {
      "cell_type": "code",
      "source": [
        "tudui = Tudui()\n",
        "output = tudui(input)\n",
        "print(\"Ceil-Mode = True\")\n",
        "print(output)\n",
        "print()\n",
        "tuduiA = TuduiA()\n",
        "outputA = tuduiA(input)\n",
        "print(\"Ceil-Mode = False\")\n",
        "print(outputA)\n"
      ],
      "metadata": {
        "colab": {
          "base_uri": "https://localhost:8080/"
        },
        "id": "KmVHhwHd5rvK",
        "outputId": "cbd5f3ae-7ddb-4a35-e02a-a6b4267443d1"
      },
      "execution_count": 26,
      "outputs": [
        {
          "output_type": "stream",
          "name": "stdout",
          "text": [
            "Ceil-Mode = True\n",
            "tensor([[[[2., 3.],\n",
            "          [5., 1.]]]])\n",
            "\n",
            "Ceil-Mode = False\n",
            "tensor([[[[2.]]]])\n"
          ]
        }
      ]
    },
    {
      "cell_type": "code",
      "source": [],
      "metadata": {
        "id": "SYmdWfqq5oo6"
      },
      "execution_count": null,
      "outputs": []
    }
  ]
}